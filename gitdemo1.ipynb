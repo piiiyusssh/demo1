{
 "cells": [
  {
   "cell_type": "markdown",
   "id": "6d9d45da",
   "metadata": {},
   "source": [
    "### Git Class 1\n",
    "# Testing Github"
   ]
  },
  {
   "cell_type": "code",
   "execution_count": 1,
   "id": "9433e664",
   "metadata": {},
   "outputs": [],
   "source": [
    "patient_details = []"
   ]
  },
  {
   "cell_type": "code",
   "execution_count": 2,
   "id": "155c0814",
   "metadata": {},
   "outputs": [],
   "source": [
    "pd = [[input(\"Enter name: \"), input(\"Age: \")], input(\"Place: \"), input(\"Email: \")]\n",
    "patient_details.append(pd)"
   ]
  },
  {
   "cell_type": "code",
   "execution_count": 3,
   "id": "af50f4cd",
   "metadata": {},
   "outputs": [
    {
     "name": "stdout",
     "output_type": "stream",
     "text": [
      "[[['', ''], '', '']]\n"
     ]
    }
   ],
   "source": [
    "print(patient_details)"
   ]
  },
  {
   "cell_type": "code",
   "execution_count": 4,
   "id": "062950c3",
   "metadata": {},
   "outputs": [
    {
     "data": {
      "text/plain": [
       "['', '']"
      ]
     },
     "execution_count": 4,
     "metadata": {},
     "output_type": "execute_result"
    }
   ],
   "source": [
    "patient_details[0][0]\n"
   ]
  },
  {
   "cell_type": "code",
   "execution_count": 5,
   "id": "856016e3",
   "metadata": {},
   "outputs": [
    {
     "name": "stdout",
     "output_type": "stream",
     "text": [
      "<class 'list'>\n"
     ]
    }
   ],
   "source": [
    "print(type(pd))"
   ]
  }
 ],
 "metadata": {
  "kernelspec": {
   "display_name": "base",
   "language": "python",
   "name": "python3"
  },
  "language_info": {
   "codemirror_mode": {
    "name": "ipython",
    "version": 3
   },
   "file_extension": ".py",
   "mimetype": "text/x-python",
   "name": "python",
   "nbconvert_exporter": "python",
   "pygments_lexer": "ipython3",
   "version": "3.12.4"
  }
 },
 "nbformat": 4,
 "nbformat_minor": 5
}
