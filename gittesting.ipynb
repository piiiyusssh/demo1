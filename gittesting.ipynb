{
 "cells": [
  {
   "cell_type": "markdown",
   "id": "9b2df5b5",
   "metadata": {},
   "source": [
    "## Git Testing\n",
    "### VS Code to Github Error test"
   ]
  }
 ],
 "metadata": {
  "language_info": {
   "name": "python"
  }
 },
 "nbformat": 4,
 "nbformat_minor": 5
}
